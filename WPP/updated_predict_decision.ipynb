{
  "cells": [
    {
      "cell_type": "code",
      "execution_count": null,
      "metadata": {
        "colab": {
          "base_uri": "https://localhost:8080/"
        },
        "id": "4jnTU3IwZNdD",
        "outputId": "717608b0-81ec-4d33-8582-dbf8d57323f5"
      },
      "outputs": [
        {
          "output_type": "stream",
          "name": "stdout",
          "text": [
            "Drive already mounted at /content/drive; to attempt to forcibly remount, call drive.mount(\"/content/drive\", force_remount=True).\n"
          ]
        }
      ],
      "source": [
        "from google.colab import drive\n",
        "drive.mount('/content/drive')"
      ]
    },
    {
      "cell_type": "code",
      "execution_count": null,
      "metadata": {
        "id": "VTHVGwwabRlX"
      },
      "outputs": [],
      "source": [
        ""
      ]
    },
    {
      "cell_type": "code",
      "execution_count": null,
      "metadata": {
        "id": "JV4d6tgegPnI"
      },
      "outputs": [],
      "source": [
        "from keras.models import Model, Sequential\n",
        "from keras.layers import Input, Flatten, Dense, Concatenate, Dropout, LSTM, GRU, SimpleRNN, Embedding, Reshape\n",
        "from keras.constraints import maxnorm"
      ]
    },
    {
      "cell_type": "code",
      "execution_count": null,
      "metadata": {
        "id": "ucFQmdGF99fG"
      },
      "outputs": [],
      "source": [
        "import pandas as pd\n",
        "import sys\n",
        "import os\n",
        "from tqdm import trange\n",
        "import numpy as np"
      ]
    },
    {
      "cell_type": "code",
      "execution_count": null,
      "metadata": {
        "id": "oFSRPd3Ecd4a"
      },
      "outputs": [],
      "source": [
        "case_sentence_csv_folder = '/content/drive/Shareddrives/SigmaLaw-WPP/criminal_sentence_dataset/'\n",
        "csv_file_list = [\n",
        "  'sentence_dataset_1000_cases.csv',\n",
        "  'sentence_dataset_2000_cases.csv', \n",
        "  # 'sentence_dataset_3000_cases.csv', \n",
        "  # 'sentence_dataset_4000_cases.csv', \n",
        "  # 'sentence_dataset_5000_cases.csv',\n",
        "  # 'sentence_dataset_6000_cases.csv', \n",
        "  # 'sentence_dataset_7000_cases.csv', 'sentence_dataset_8000_cases.csv', \n",
        "  # 'sentence_dataset_9000_cases.csv',\n",
        "  # 'sentence_dataset_10000_cases.csv'\n",
        "]"
      ]
    },
    {
      "cell_type": "code",
      "execution_count": null,
      "metadata": {
        "id": "IfLXyhDVdAdc"
      },
      "outputs": [],
      "source": [
        "critical_sentence_csv_folder = '/content/drive/Shareddrives/SigmaLaw-WPP/criminal_sentence_dataset/critical_sentence_prediction/'\n",
        "critical_file_list = [\n",
        "    'critical_sentence_pred_results_1000.csv',\n",
        "    'critical_sentence_pred_results_2000.csv',\n",
        "    # 'critical_sentence_pred_results_3000.csv',\n",
        "    # 'critical_sentence_pred_results_4000.csv',\n",
        "    # 'critical_sentence_pred_results_5000.csv',\n",
        "    # 'critical_sentence_pred_results_6000.csv'\n",
        "                      ]"
      ]
    },
    {
      "cell_type": "code",
      "execution_count": null,
      "metadata": {
        "id": "njuXuHAO-gRL"
      },
      "outputs": [],
      "source": [
        "result_csv_path= '/content/drive/Shareddrives/SigmaLaw-WPP/LRR/web_scrape/criminal/decision_annotated_criminal_v1.csv'"
      ]
    },
    {
      "cell_type": "code",
      "execution_count": null,
      "metadata": {
        "id": "RMjVaQ7_-v2K"
      },
      "outputs": [],
      "source": [
        "result_df = pd.read_csv(result_csv_path)"
      ]
    },
    {
      "cell_type": "markdown",
      "metadata": {
        "id": "6OSQBeOhGWTS"
      },
      "source": [
        "# Data Preparation"
      ]
    },
    {
      "cell_type": "markdown",
      "metadata": {
        "id": "eHKaC9vuGsYW"
      },
      "source": [
        "# Dataset"
      ]
    },
    {
      "cell_type": "code",
      "execution_count": null,
      "metadata": {
        "colab": {
          "base_uri": "https://localhost:8080/"
        },
        "id": "79n37Ar1Omuw",
        "outputId": "3924aedc-1b18-41ea-c908-2c25d9e7296b"
      },
      "outputs": [
        {
          "output_type": "stream",
          "name": "stdout",
          "text": [
            "1000\n",
            "2000\n"
          ]
        }
      ],
      "source": [
        "k = 1000\n",
        "np_encoded_sentences_list = np.array([])\n",
        "while k <= 2000:\n",
        "  path_2 = '/content/drive/Shareddrives/SigmaLaw-WPP/EAMS/datasets/encoded_sentences_768_{}.txt'.format(k)\n",
        "  with open(path_2, 'r') as f:\n",
        "    np_encoded_sentences_array = np.loadtxt(f)\n",
        "    np_encoded_sentences_list = [*np_encoded_sentences_list, *np_encoded_sentences_array]\n",
        "    print(k)\n",
        "    k+=1000"
      ]
    },
    {
      "cell_type": "code",
      "execution_count": null,
      "metadata": {
        "colab": {
          "base_uri": "https://localhost:8080/"
        },
        "id": "S97qZS0keRRp",
        "outputId": "5b859bad-907b-41c0-defc-2213fe002794"
      },
      "outputs": [
        {
          "output_type": "stream",
          "name": "stderr",
          "text": [
            "\r  0%|          | 0/2 [00:00<?, ?it/s]"
          ]
        },
        {
          "output_type": "stream",
          "name": "stdout",
          "text": [
            "critical_sentence_pred_results_1000.csv\n"
          ]
        },
        {
          "output_type": "stream",
          "name": "stderr",
          "text": [
            "\r 50%|█████     | 1/2 [00:08<00:08,  8.06s/it]"
          ]
        },
        {
          "output_type": "stream",
          "name": "stdout",
          "text": [
            "critical_sentence_pred_results_2000.csv\n"
          ]
        },
        {
          "output_type": "stream",
          "name": "stderr",
          "text": [
            "100%|██████████| 2/2 [00:15<00:00,  7.65s/it]\n"
          ]
        }
      ],
      "source": [
        "critical_sentence_result = []\n",
        "for findex in trange(len(critical_file_list)):\n",
        "  df = pd.read_csv(os.path.join(critical_sentence_csv_folder, critical_file_list[findex]))\n",
        "  print(critical_file_list[findex])\n",
        "  for index, row in df.iterrows():\n",
        "    critical_sentence_result.append([row['lose_negative'], row['lose_positive'], row['win_negative'], row['win_positive']])"
      ]
    },
    {
      "cell_type": "code",
      "execution_count": null,
      "metadata": {
        "colab": {
          "base_uri": "https://localhost:8080/"
        },
        "id": "G5sAEV909cds",
        "outputId": "5826d6ca-8c57-45c7-97f5-6b9457ea1b65"
      },
      "outputs": [
        {
          "output_type": "stream",
          "name": "stderr",
          "text": [
            "\r  0%|          | 0/2 [00:00<?, ?it/s]"
          ]
        },
        {
          "output_type": "stream",
          "name": "stdout",
          "text": [
            "sentence_dataset_1000_cases.csv\n"
          ]
        },
        {
          "output_type": "stream",
          "name": "stderr",
          "text": [
            "\r 50%|█████     | 1/2 [00:19<00:19, 19.90s/it]"
          ]
        },
        {
          "output_type": "stream",
          "name": "stdout",
          "text": [
            "sentence_dataset_2000_cases.csv\n"
          ]
        },
        {
          "output_type": "stream",
          "name": "stderr",
          "text": [
            "100%|██████████| 2/2 [00:41<00:00, 20.55s/it]\n"
          ]
        }
      ],
      "source": [
        "cases = []\n",
        "decisions = []\n",
        "case_name = 'case0.txt'\n",
        "case_sentences = []\n",
        "m = 0\n",
        "for findex in trange(len(csv_file_list)):\n",
        "  df = pd.read_csv(os.path.join(case_sentence_csv_folder, csv_file_list[findex]))\n",
        "  print(csv_file_list[findex])\n",
        "  for index, row in df.iterrows():\n",
        "    if case_name != row['case_file']:\n",
        "      cases.append(case_sentences)\n",
        "      case_sentences = []\n",
        "      if(result_df.loc[result_df['Unnamed: 0']==case_name, 'Y'].values[0] == -1):\n",
        "        decisions.append(0)\n",
        "      elif(result_df.loc[result_df['Unnamed: 0']==case_name, 'Y'].values[0] == 0):\n",
        "        decisions.append(-1)\n",
        "      elif(result_df.loc[result_df['Unnamed: 0']==case_name, 'Y'].values[0] == 1):\n",
        "        decisions.append(1)\n",
        "      else:\n",
        "        print(case_name)\n",
        "      case_name = row['case_file']\n",
        "    case_sentences.append([*np_encoded_sentences_list[m],*critical_sentence_result[m]])\n",
        "    m+=1\n",
        "\n"
      ]
    },
    {
      "cell_type": "code",
      "execution_count": null,
      "metadata": {
        "colab": {
          "base_uri": "https://localhost:8080/"
        },
        "id": "hDKvUhAUREoR",
        "outputId": "ed1d729e-7608-45a1-95f0-31582f981122"
      },
      "outputs": [
        {
          "output_type": "execute_result",
          "data": {
            "text/plain": [
              "Counter({0: 1459, 1: 539})"
            ]
          },
          "metadata": {},
          "execution_count": 12
        }
      ],
      "source": [
        "import collections\n",
        "\n",
        "collections.Counter(decisions)"
      ]
    },
    {
      "cell_type": "code",
      "source": [
        "len(cases[0][-1])"
      ],
      "metadata": {
        "colab": {
          "base_uri": "https://localhost:8080/"
        },
        "id": "je4DtooulCqc",
        "outputId": "cfb030c3-8771-4f20-e285-132912e125e7"
      },
      "execution_count": null,
      "outputs": [
        {
          "output_type": "execute_result",
          "data": {
            "text/plain": [
              "772"
            ]
          },
          "metadata": {},
          "execution_count": 13
        }
      ]
    },
    {
      "cell_type": "code",
      "source": [
        "np_encoded_sentences_list = None\n",
        "critical_sentence_result =None"
      ],
      "metadata": {
        "id": "N4xu9RJcwjK_"
      },
      "execution_count": null,
      "outputs": []
    },
    {
      "cell_type": "code",
      "execution_count": null,
      "metadata": {
        "id": "P_WsOqj-AInI"
      },
      "outputs": [],
      "source": [
        "updated_cases = []\n",
        "updated_decisions = []\n",
        "zero_count = 0\n",
        "one_count = 0\n",
        "for j in range(len(decisions)):\n",
        "  if(decisions[j] == 0 and zero_count <539):\n",
        "    updated_cases.append(cases[j])\n",
        "    updated_decisions.append(decisions[j])\n",
        "    zero_count+=1\n",
        "  elif(decisions[j] == 1 and one_count <539):\n",
        "    updated_cases.append(cases[j])\n",
        "    updated_decisions.append(decisions[j])\n",
        "    one_count+=1\n",
        "  if(one_count==539 and zero_count == 539):\n",
        "    break"
      ]
    },
    {
      "cell_type": "code",
      "execution_count": null,
      "metadata": {
        "colab": {
          "base_uri": "https://localhost:8080/"
        },
        "id": "4pdHa3YxEarx",
        "outputId": "208ae3c3-a882-4160-b56c-86096a26510d"
      },
      "outputs": [
        {
          "output_type": "execute_result",
          "data": {
            "text/plain": [
              "1078"
            ]
          },
          "metadata": {},
          "execution_count": 16
        }
      ],
      "source": [
        "len(updated_decisions)"
      ]
    },
    {
      "cell_type": "code",
      "execution_count": null,
      "metadata": {
        "id": "_n5IFhfuedm7"
      },
      "outputs": [],
      "source": [
        "\n",
        "cases = None\n",
        "decisions = None"
      ]
    },
    {
      "cell_type": "code",
      "execution_count": null,
      "metadata": {
        "colab": {
          "base_uri": "https://localhost:8080/"
        },
        "id": "VP5BDncoSZvE",
        "outputId": "0a121a3a-26b5-4e71-e5ab-c26bec7f3c19"
      },
      "outputs": [
        {
          "output_type": "execute_result",
          "data": {
            "text/plain": [
              "Counter({0: 539, 1: 539})"
            ]
          },
          "metadata": {},
          "execution_count": 18
        }
      ],
      "source": [
        "collections.Counter(updated_decisions)"
      ]
    },
    {
      "cell_type": "code",
      "execution_count": null,
      "metadata": {
        "colab": {
          "base_uri": "https://localhost:8080/"
        },
        "id": "aumOIMlKDlBJ",
        "outputId": "a1fe1649-f47c-403b-9540-6c0602fa0c5c"
      },
      "outputs": [
        {
          "data": {
            "text/plain": [
              "1000"
            ]
          },
          "execution_count": 11,
          "metadata": {},
          "output_type": "execute_result"
        }
      ],
      "source": [
        "len(updated_cases)"
      ]
    },
    {
      "cell_type": "code",
      "execution_count": null,
      "metadata": {
        "id": "bhCg3r5GDM3v"
      },
      "outputs": [],
      "source": [
        "pad_cases = []\n",
        "for case in updated_cases:\n",
        "  no_sentences = len(case)\n",
        "  if(no_sentences > 150):\n",
        "    pad_cases.append(case[0:150])\n",
        "  elif(no_sentences == 150):\n",
        "    pad_cases.append(case)\n",
        "  else:\n",
        "    for b in range(no_sentences,150):\n",
        "      case.append(np.zeros(772))\n",
        "    pad_cases.append(case)\n",
        "    "
      ]
    },
    {
      "cell_type": "markdown",
      "metadata": {
        "id": "uQCns-CGG0ee"
      },
      "source": [
        "# Model Implementation"
      ]
    },
    {
      "cell_type": "markdown",
      "metadata": {
        "id": "dyAjvDpnOJCF"
      },
      "source": [
        "# Training Data Prep"
      ]
    },
    {
      "cell_type": "code",
      "execution_count": null,
      "metadata": {
        "id": "WL8Q6NyCTmYb"
      },
      "outputs": [],
      "source": [
        "model_inputs = np.asarray(pad_cases)\n",
        "updated_decisions = np.asarray(updated_decisions)"
      ]
    },
    {
      "cell_type": "code",
      "execution_count": null,
      "metadata": {
        "id": "EtJDDUtCXZj2"
      },
      "outputs": [],
      "source": [
        "from sklearn.model_selection import train_test_split\n",
        "from sklearn.metrics import accuracy_score\n"
      ]
    },
    {
      "cell_type": "code",
      "execution_count": null,
      "metadata": {
        "id": "AbyP3jEpXEWf"
      },
      "outputs": [],
      "source": [
        "x_train, x_test, y_train, y_test = train_test_split(model_inputs, updated_decisions, test_size=0.2)"
      ]
    },
    {
      "cell_type": "code",
      "execution_count": null,
      "metadata": {
        "colab": {
          "base_uri": "https://localhost:8080/"
        },
        "id": "o09qt4ufXft3",
        "outputId": "4992754a-6b89-4f94-bc55-078dfb290839"
      },
      "outputs": [
        {
          "output_type": "execute_result",
          "data": {
            "text/plain": [
              "Counter({0: 96, 1: 120})"
            ]
          },
          "metadata": {},
          "execution_count": 23
        }
      ],
      "source": [
        "collections.Counter(y_test)"
      ]
    },
    {
      "cell_type": "markdown",
      "metadata": {
        "id": "_K1eX16BNXtn"
      },
      "source": [
        "# RNN Model"
      ]
    },
    {
      "cell_type": "code",
      "execution_count": null,
      "metadata": {
        "id": "OZyKh1LlNaV0"
      },
      "outputs": [],
      "source": [
        "model = Sequential()\n",
        "model.add(GRU(512, input_shape=(150,772),return_sequences=False))\n",
        "# model.add(Dropout(0.3))\n",
        "model.add(Dense(32,activation='relu'))\n",
        "model.add(Dense(1, activation='sigmoid'))"
      ]
    },
    {
      "cell_type": "code",
      "execution_count": null,
      "metadata": {
        "id": "BbfaDfAuOACf"
      },
      "outputs": [],
      "source": [
        "model.compile(loss='binary_crossentropy', optimizer='adam', metrics=['accuracy'])"
      ]
    },
    {
      "cell_type": "code",
      "execution_count": null,
      "metadata": {
        "colab": {
          "base_uri": "https://localhost:8080/"
        },
        "id": "SywkHTXGOA_C",
        "outputId": "9cf31efd-0ad5-4e7f-a96e-3aa7b4c9294f"
      },
      "outputs": [
        {
          "output_type": "stream",
          "name": "stdout",
          "text": [
            "Epoch 1/20\n",
            "14/14 [==============================] - 46s 3s/step - loss: 0.7183 - accuracy: 0.5151 - val_loss: 0.6873 - val_accuracy: 0.5463\n",
            "Epoch 2/20\n",
            "14/14 [==============================] - 43s 3s/step - loss: 0.6806 - accuracy: 0.5394 - val_loss: 0.6749 - val_accuracy: 0.5370\n",
            "Epoch 3/20\n",
            "14/14 [==============================] - 48s 3s/step - loss: 0.6582 - accuracy: 0.5800 - val_loss: 0.7194 - val_accuracy: 0.4722\n",
            "Epoch 4/20\n",
            "14/14 [==============================] - 45s 3s/step - loss: 0.6285 - accuracy: 0.6090 - val_loss: 0.7046 - val_accuracy: 0.5278\n",
            "Epoch 5/20\n",
            "14/14 [==============================] - 45s 3s/step - loss: 0.5937 - accuracy: 0.6369 - val_loss: 0.7423 - val_accuracy: 0.5139\n",
            "Epoch 6/20\n",
            "14/14 [==============================] - 43s 3s/step - loss: 0.5649 - accuracy: 0.6427 - val_loss: 0.7473 - val_accuracy: 0.5093\n",
            "Epoch 7/20\n",
            "14/14 [==============================] - 43s 3s/step - loss: 0.5336 - accuracy: 0.6613 - val_loss: 0.8369 - val_accuracy: 0.5000\n",
            "Epoch 8/20\n",
            "14/14 [==============================] - 42s 3s/step - loss: 0.5193 - accuracy: 0.6624 - val_loss: 0.8376 - val_accuracy: 0.5093\n",
            "Epoch 9/20\n",
            "14/14 [==============================] - 43s 3s/step - loss: 0.5024 - accuracy: 0.6682 - val_loss: 0.9124 - val_accuracy: 0.5046\n",
            "Epoch 10/20\n",
            "14/14 [==============================] - 43s 3s/step - loss: 0.4902 - accuracy: 0.6717 - val_loss: 0.9638 - val_accuracy: 0.4907\n",
            "Epoch 11/20\n",
            "14/14 [==============================] - 42s 3s/step - loss: 0.4830 - accuracy: 0.6810 - val_loss: 0.9732 - val_accuracy: 0.5000\n",
            "Epoch 12/20\n",
            "14/14 [==============================] - 42s 3s/step - loss: 0.4830 - accuracy: 0.6833 - val_loss: 0.9613 - val_accuracy: 0.5139\n",
            "Epoch 13/20\n",
            "14/14 [==============================] - 41s 3s/step - loss: 0.4923 - accuracy: 0.6705 - val_loss: 0.9997 - val_accuracy: 0.5000\n",
            "Epoch 14/20\n",
            "14/14 [==============================] - 41s 3s/step - loss: 0.4882 - accuracy: 0.6717 - val_loss: 1.0360 - val_accuracy: 0.5046\n",
            "Epoch 15/20\n",
            "14/14 [==============================] - 41s 3s/step - loss: 0.4813 - accuracy: 0.6729 - val_loss: 1.0518 - val_accuracy: 0.5093\n",
            "Epoch 16/20\n",
            "14/14 [==============================] - 42s 3s/step - loss: 0.4790 - accuracy: 0.6775 - val_loss: 1.1279 - val_accuracy: 0.5000\n",
            "Epoch 17/20\n",
            "14/14 [==============================] - 45s 3s/step - loss: 0.4750 - accuracy: 0.6879 - val_loss: 1.0905 - val_accuracy: 0.5324\n",
            "Epoch 18/20\n",
            "14/14 [==============================] - 42s 3s/step - loss: 0.4756 - accuracy: 0.6903 - val_loss: 1.0768 - val_accuracy: 0.5185\n",
            "Epoch 19/20\n",
            "14/14 [==============================] - 42s 3s/step - loss: 0.4869 - accuracy: 0.6682 - val_loss: 1.0289 - val_accuracy: 0.4907\n",
            "Epoch 20/20\n",
            "14/14 [==============================] - 41s 3s/step - loss: 0.4869 - accuracy: 0.6717 - val_loss: 1.1477 - val_accuracy: 0.5000\n"
          ]
        },
        {
          "output_type": "execute_result",
          "data": {
            "text/plain": [
              "<keras.callbacks.History at 0x7f97d067add0>"
            ]
          },
          "metadata": {},
          "execution_count": 26
        }
      ],
      "source": [
        "model.fit(x_train, y_train, validation_data=(x_test,y_test), epochs=20, batch_size=64)"
      ]
    },
    {
      "cell_type": "code",
      "execution_count": null,
      "metadata": {
        "colab": {
          "base_uri": "https://localhost:8080/"
        },
        "id": "Q3oBUpnWfekS",
        "outputId": "245ad744-4169-4ad5-8399-d525f76076e0"
      },
      "outputs": [
        {
          "name": "stdout",
          "output_type": "stream",
          "text": [
            "Epoch 1/10\n",
            "66/66 [==============================] - 23s 299ms/step - loss: 0.7594 - accuracy: 0.5310 - val_loss: 0.7184 - val_accuracy: 0.5400\n",
            "Epoch 2/10\n",
            "66/66 [==============================] - 19s 291ms/step - loss: 0.6987 - accuracy: 0.5626 - val_loss: 0.6979 - val_accuracy: 0.5629\n",
            "Epoch 3/10\n",
            "66/66 [==============================] - 21s 320ms/step - loss: 0.6783 - accuracy: 0.5924 - val_loss: 0.6923 - val_accuracy: 0.5686\n",
            "Epoch 4/10\n",
            "66/66 [==============================] - 19s 293ms/step - loss: 0.6671 - accuracy: 0.6043 - val_loss: 0.6888 - val_accuracy: 0.5705\n",
            "Epoch 5/10\n",
            "66/66 [==============================] - 19s 294ms/step - loss: 0.6546 - accuracy: 0.6167 - val_loss: 0.6898 - val_accuracy: 0.5705\n",
            "Epoch 6/10\n",
            "66/66 [==============================] - 20s 296ms/step - loss: 0.6455 - accuracy: 0.6367 - val_loss: 0.6849 - val_accuracy: 0.5848\n",
            "Epoch 7/10\n",
            "66/66 [==============================] - 20s 296ms/step - loss: 0.6271 - accuracy: 0.6538 - val_loss: 0.6926 - val_accuracy: 0.5733\n",
            "Epoch 8/10\n",
            "66/66 [==============================] - 19s 292ms/step - loss: 0.6135 - accuracy: 0.6688 - val_loss: 0.6931 - val_accuracy: 0.5819\n",
            "Epoch 9/10\n",
            "66/66 [==============================] - 19s 293ms/step - loss: 0.5941 - accuracy: 0.6852 - val_loss: 0.6958 - val_accuracy: 0.5867\n",
            "Epoch 10/10\n",
            "66/66 [==============================] - 19s 291ms/step - loss: 0.5680 - accuracy: 0.7038 - val_loss: 0.7062 - val_accuracy: 0.5648\n"
          ]
        },
        {
          "data": {
            "text/plain": [
              "<keras.callbacks.History at 0x7f4e5a8ae350>"
            ]
          },
          "execution_count": 56,
          "metadata": {},
          "output_type": "execute_result"
        }
      ],
      "source": [
        "model.fit(x_train, y_train, validation_data=(x_test,y_test), epochs=10, batch_size=64)"
      ]
    }
  ],
  "metadata": {
    "colab": {
      "collapsed_sections": [],
      "name": "updated predict_decision.ipynb",
      "provenance": []
    },
    "kernelspec": {
      "display_name": "Python 3",
      "name": "python3"
    },
    "language_info": {
      "name": "python"
    }
  },
  "nbformat": 4,
  "nbformat_minor": 0
}