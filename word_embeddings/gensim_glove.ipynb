{
  "nbformat": 4,
  "nbformat_minor": 0,
  "metadata": {
    "colab": {
      "name": "gensim_glove.ipynb",
      "provenance": [],
      "toc_visible": true
    },
    "kernelspec": {
      "name": "python3",
      "display_name": "Python 3"
    },
    "language_info": {
      "name": "python"
    }
  },
  "cells": [
    {
      "cell_type": "code",
      "execution_count": null,
      "metadata": {
        "colab": {
          "base_uri": "https://localhost:8080/"
        },
        "id": "_lcUr1IxMsjH",
        "outputId": "79cbf5a7-d4dd-4059-960c-6b057f23bf90"
      },
      "outputs": [
        {
          "output_type": "stream",
          "name": "stdout",
          "text": [
            "Mounted at /content/drive\n"
          ]
        }
      ],
      "source": [
        "from google.colab import drive\n",
        "drive.mount('/content/drive')"
      ]
    },
    {
      "cell_type": "code",
      "source": [
        "! pip install glove-python-binary"
      ],
      "metadata": {
        "colab": {
          "base_uri": "https://localhost:8080/"
        },
        "id": "VMoIvAn-NCwe",
        "outputId": "1f924803-064d-47ae-9bb2-46ad76531b2e"
      },
      "execution_count": null,
      "outputs": [
        {
          "output_type": "stream",
          "name": "stdout",
          "text": [
            "Collecting glove-python-binary\n",
            "  Downloading glove_python_binary-0.2.0-cp37-cp37m-manylinux1_x86_64.whl (948 kB)\n",
            "\u001b[K     |████████████████████████████████| 948 kB 7.7 MB/s \n",
            "\u001b[?25hRequirement already satisfied: numpy in /usr/local/lib/python3.7/dist-packages (from glove-python-binary) (1.19.5)\n",
            "Requirement already satisfied: scipy in /usr/local/lib/python3.7/dist-packages (from glove-python-binary) (1.4.1)\n",
            "Installing collected packages: glove-python-binary\n",
            "Successfully installed glove-python-binary-0.2.0\n"
          ]
        }
      ]
    },
    {
      "cell_type": "code",
      "source": [
        "! pip install gensim --upgrade"
      ],
      "metadata": {
        "colab": {
          "base_uri": "https://localhost:8080/"
        },
        "id": "tf2RM31MUBQQ",
        "outputId": "7f423103-fe01-47d1-ac58-4fbe93c1b6ae"
      },
      "execution_count": null,
      "outputs": [
        {
          "output_type": "stream",
          "name": "stdout",
          "text": [
            "Requirement already satisfied: gensim in /usr/local/lib/python3.7/dist-packages (3.6.0)\n",
            "Collecting gensim\n",
            "  Downloading gensim-4.1.2-cp37-cp37m-manylinux_2_12_x86_64.manylinux2010_x86_64.whl (24.1 MB)\n",
            "\u001b[K     |████████████████████████████████| 24.1 MB 1.6 MB/s \n",
            "\u001b[?25hRequirement already satisfied: numpy>=1.17.0 in /usr/local/lib/python3.7/dist-packages (from gensim) (1.19.5)\n",
            "Requirement already satisfied: smart-open>=1.8.1 in /usr/local/lib/python3.7/dist-packages (from gensim) (5.2.1)\n",
            "Requirement already satisfied: scipy>=0.18.1 in /usr/local/lib/python3.7/dist-packages (from gensim) (1.4.1)\n",
            "Installing collected packages: gensim\n",
            "  Attempting uninstall: gensim\n",
            "    Found existing installation: gensim 3.6.0\n",
            "    Uninstalling gensim-3.6.0:\n",
            "      Successfully uninstalled gensim-3.6.0\n",
            "Successfully installed gensim-4.1.2\n"
          ]
        }
      ]
    },
    {
      "cell_type": "code",
      "source": [
        "from glove import Corpus, Glove\n",
        "import pandas as pd\n",
        "import sys\n",
        "import os\n",
        "from tqdm import trange\n",
        "import re\n",
        "import csv\n",
        "import numpy as np\n",
        "from gensim.models import KeyedVectors "
      ],
      "metadata": {
        "id": "Zht93NhZNFRu"
      },
      "execution_count": null,
      "outputs": []
    },
    {
      "cell_type": "code",
      "source": [
        "new_glove = Glove.load('/content/drive/Shareddrives/SigmaLaw-WPP/EAMS/glove/glove_250_epochs_300d_new/glove_250_epochs_300d_new.model')"
      ],
      "metadata": {
        "id": "RF1uBBSsMx0D"
      },
      "execution_count": null,
      "outputs": []
    },
    {
      "cell_type": "code",
      "source": [
        "dic = {}\n",
        "for i in range (0, 84606):\n",
        "  dic[new_glove.inverse_dictionary.get(i)] = new_glove.word_vectors[i]\n"
      ],
      "metadata": {
        "id": "Xc7sB-7kNI5W"
      },
      "execution_count": null,
      "outputs": []
    },
    {
      "cell_type": "code",
      "source": [
        "new_glove.most_similar(\"lawyer\",5,)"
      ],
      "metadata": {
        "colab": {
          "base_uri": "https://localhost:8080/"
        },
        "id": "hL5TGsrxTUb6",
        "outputId": "4a10e45d-2574-4de2-d407-c5d3e6b5377c"
      },
      "execution_count": null,
      "outputs": [
        {
          "output_type": "execute_result",
          "data": {
            "text/plain": [
              "[('attorney', 0.5818665104029348),\n",
              " ('client', 0.5659854047171373),\n",
              " ('lawyers', 0.562391323158718),\n",
              " ('attorneys', 0.5588689153299055)]"
            ]
          },
          "metadata": {},
          "execution_count": 7
        }
      ]
    },
    {
      "cell_type": "code",
      "source": [
        "kv = KeyedVectors(300)"
      ],
      "metadata": {
        "id": "VKIbk_8NUUDb"
      },
      "execution_count": null,
      "outputs": []
    },
    {
      "cell_type": "code",
      "source": [
        "kv.add_vectors(list(dic.keys()), weights=new_glove.word_vectors)"
      ],
      "metadata": {
        "id": "FqadAVMBUwvO"
      },
      "execution_count": null,
      "outputs": []
    },
    {
      "cell_type": "code",
      "source": [
        "kv.most_similar('lawyer')"
      ],
      "metadata": {
        "colab": {
          "base_uri": "https://localhost:8080/"
        },
        "id": "dfgxlZtQVYzS",
        "outputId": "ac2a7eaa-6a0f-4b01-893d-089da0f32d35"
      },
      "execution_count": null,
      "outputs": [
        {
          "output_type": "execute_result",
          "data": {
            "text/plain": [
              "[('attorney', 0.5818665027618408),\n",
              " ('client', 0.5659854412078857),\n",
              " ('lawyers', 0.5623912215232849),\n",
              " ('attorneys', 0.5588688850402832),\n",
              " ('appointed', 0.5248225331306458),\n",
              " ('talk', 0.5074422359466553),\n",
              " ('want', 0.4613948166370392),\n",
              " ('wanted', 0.46060240268707275),\n",
              " ('your', 0.4571148157119751),\n",
              " ('consult', 0.4460335373878479)]"
            ]
          },
          "metadata": {},
          "execution_count": 10
        }
      ]
    },
    {
      "cell_type": "code",
      "source": [
        "saved_model_path = \"/content/gensim_glove_250_new_epochs/\"\n",
        "!mkdir {saved_model_path}"
      ],
      "metadata": {
        "id": "Cwe_CteAW9xY"
      },
      "execution_count": null,
      "outputs": []
    },
    {
      "cell_type": "code",
      "source": [
        "kv.save('/content/gensim_glove_250_new_epochs/gensim_glove_250_new_epochs.kv')"
      ],
      "metadata": {
        "id": "SHOjDd9kXD7B"
      },
      "execution_count": null,
      "outputs": []
    },
    {
      "cell_type": "code",
      "source": [
        "!du -sh {saved_model_path}"
      ],
      "metadata": {
        "colab": {
          "base_uri": "https://localhost:8080/"
        },
        "id": "UAYAFKoOXGvQ",
        "outputId": "c3a1edbd-0754-4b72-ef10-7af911add6f0"
      },
      "execution_count": null,
      "outputs": [
        {
          "output_type": "stream",
          "name": "stdout",
          "text": [
            "99M\t/content/gensim_glove_250_new_epochs/\n"
          ]
        }
      ]
    },
    {
      "cell_type": "code",
      "source": [
        "!cp -av {saved_model_path} /content/drive/Shareddrives/SigmaLaw-WPP/EAMS/glove"
      ],
      "metadata": {
        "colab": {
          "base_uri": "https://localhost:8080/"
        },
        "id": "Cr6rNeEnXI72",
        "outputId": "ca6dc5c3-b82e-456b-b719-4d749d753d13"
      },
      "execution_count": null,
      "outputs": [
        {
          "output_type": "stream",
          "name": "stdout",
          "text": [
            "'/content/gensim_glove_250_new_epochs/' -> '/content/drive/Shareddrives/SigmaLaw-WPP/EAMS/glove/gensim_glove_250_new_epochs'\n",
            "'/content/gensim_glove_250_new_epochs/gensim_glove_250_new_epochs.kv.vectors.npy' -> '/content/drive/Shareddrives/SigmaLaw-WPP/EAMS/glove/gensim_glove_250_new_epochs/gensim_glove_250_new_epochs.kv.vectors.npy'\n",
            "'/content/gensim_glove_250_new_epochs/gensim_glove_250_new_epochs.kv' -> '/content/drive/Shareddrives/SigmaLaw-WPP/EAMS/glove/gensim_glove_250_new_epochs/gensim_glove_250_new_epochs.kv'\n"
          ]
        }
      ]
    },
    {
      "cell_type": "code",
      "source": [
        "kv.most_similar('lawyer')"
      ],
      "metadata": {
        "colab": {
          "base_uri": "https://localhost:8080/"
        },
        "id": "ETI99FQbVrsu",
        "outputId": "8377e6d5-0b1b-44c3-8bd1-bc8d913ed0da"
      },
      "execution_count": null,
      "outputs": [
        {
          "output_type": "execute_result",
          "data": {
            "text/plain": [
              "[('attorney', 0.5553207993507385),\n",
              " ('attorneys', 0.5502076148986816),\n",
              " ('lawyers', 0.5130752921104431),\n",
              " ('client', 0.5073084831237793),\n",
              " ('appointed', 0.48202279210090637),\n",
              " ('talk', 0.44426509737968445),\n",
              " ('your', 0.4305446743965149),\n",
              " ('want', 0.4115917980670929),\n",
              " ('wanted', 0.4106380045413971),\n",
              " ('represent', 0.40909576416015625)]"
            ]
          },
          "metadata": {},
          "execution_count": 26
        }
      ]
    }
  ]
}