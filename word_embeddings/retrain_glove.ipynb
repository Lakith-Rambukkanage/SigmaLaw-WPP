{
  "cells": [
    {
      "cell_type": "code",
      "execution_count": null,
      "metadata": {
        "colab": {
          "base_uri": "https://localhost:8080/"
        },
        "id": "sH_UIacGZNkd",
        "outputId": "af15ae8f-efa1-4cb0-ba0a-1575b2e3fb7a"
      },
      "outputs": [
        {
          "output_type": "stream",
          "name": "stdout",
          "text": [
            "Drive already mounted at /content/drive; to attempt to forcibly remount, call drive.mount(\"/content/drive\", force_remount=True).\n"
          ]
        }
      ],
      "source": [
        "from google.colab import drive\n",
        "drive.mount('/content/drive')"
      ]
    },
    {
      "cell_type": "code",
      "execution_count": null,
      "metadata": {
        "colab": {
          "base_uri": "https://localhost:8080/"
        },
        "id": "Hbm4lGAJZXuh",
        "outputId": "c469c784-4a32-42a1-a9f2-e9d1c11a0834"
      },
      "outputs": [
        {
          "output_type": "stream",
          "name": "stdout",
          "text": [
            "Requirement already satisfied: glove-python-binary in /usr/local/lib/python3.7/dist-packages (0.2.0)\n",
            "Requirement already satisfied: scipy in /usr/local/lib/python3.7/dist-packages (from glove-python-binary) (1.4.1)\n",
            "Requirement already satisfied: numpy in /usr/local/lib/python3.7/dist-packages (from glove-python-binary) (1.19.5)\n"
          ]
        }
      ],
      "source": [
        "! pip install glove-python-binary"
      ]
    },
    {
      "cell_type": "code",
      "execution_count": null,
      "metadata": {
        "id": "Jr2z87a2ZZIB"
      },
      "outputs": [],
      "source": [
        "from glove import Corpus, Glove\n",
        "import pandas as pd\n",
        "import sys\n",
        "import os\n",
        "from tqdm import trange\n",
        "import re\n",
        "import csv\n",
        "import numpy as np"
      ]
    },
    {
      "cell_type": "code",
      "execution_count": null,
      "metadata": {
        "id": "fszOvYyrZfif"
      },
      "outputs": [],
      "source": [
        "new_glove = Glove.load('/content/drive/Shareddrives/SigmaLaw-WPP/EAMS/glove/glove_300_epochs_300d/glove_300_epochs_300d.model')"
      ]
    },
    {
      "cell_type": "code",
      "source": [
        "new_glove_2 = Glove.load('/content/drive/Shareddrives/SigmaLaw-WPP/EAMS/glove/glove_200_epochs_300d/glove_200_epochs_300d.model')"
      ],
      "metadata": {
        "id": "AboKE9fwc6pG"
      },
      "execution_count": null,
      "outputs": []
    },
    {
      "cell_type": "code",
      "execution_count": null,
      "metadata": {
        "id": "001jDURqZkEH"
      },
      "outputs": [],
      "source": [
        "def preprocess(text):\n",
        "  processed_text = text.replace('\\\\', '')\n",
        "  symbols_regex = re.compile(r\"([.()[\\]{}!?$@&#*/_;,`~:\\-<>\\+=])\")\n",
        "  processed_text = symbols_regex.sub(\" \\\\1 \", processed_text)\n",
        "  processed_text = re.sub(r'\\s+', ' ', processed_text)\n",
        "  processed_text = processed_text.replace('[ CITE ]', '[CITE]')\n",
        "  processed_text = processed_text.replace('\"', ' \" ')\n",
        "  processed_text = processed_text.replace(\"'\", \" ' \")\n",
        "  processed_text = processed_text.strip()\n",
        "  # if processed_text.isupper():\n",
        "  processed_text = processed_text.lower()\n",
        "  return re.sub(r'\\s+', ' ', processed_text)"
      ]
    },
    {
      "cell_type": "code",
      "execution_count": null,
      "metadata": {
        "id": "iwjziZWmZncu"
      },
      "outputs": [],
      "source": [
        "case_sentence_csv_folder = '/content/drive/Shareddrives/SigmaLaw-WPP/criminal_sentence_dataset/'\n",
        "csv_file_list = [\n",
        "  'sentence_dataset_1000_cases.csv'\n",
        "  , 'sentence_dataset_2000_cases.csv', 'sentence_dataset_3000_cases.csv', \n",
        "  'sentence_dataset_4000_cases.csv', 'sentence_dataset_5000_cases.csv', 'sentence_dataset_6000_cases.csv', \n",
        "  'sentence_dataset_7000_cases.csv', 'sentence_dataset_8000_cases.csv', 'sentence_dataset_9000_cases.csv',\n",
        "  'sentence_dataset_10000_cases.csv'\n",
        "]"
      ]
    },
    {
      "cell_type": "code",
      "execution_count": null,
      "metadata": {
        "colab": {
          "base_uri": "https://localhost:8080/"
        },
        "id": "g5MpSrNlZqcW",
        "outputId": "8123b602-8aab-4832-cedf-e1f6087865a6"
      },
      "outputs": [
        {
          "output_type": "stream",
          "name": "stderr",
          "text": [
            "100%|██████████| 10/10 [02:45<00:00, 16.59s/it]\n"
          ]
        }
      ],
      "source": [
        "train_samples = []\n",
        "\n",
        "for findex in trange(len(csv_file_list)):\n",
        "  df = pd.read_csv(os.path.join(case_sentence_csv_folder, csv_file_list[findex]))\n",
        "  for index, row in df.iterrows():\n",
        "    sentence = row['sentence'].strip().lower()\n",
        "    train_samples.append(preprocess(sentence).split(' '))"
      ]
    },
    {
      "cell_type": "code",
      "execution_count": null,
      "metadata": {
        "id": "VydJdCyMZweR"
      },
      "outputs": [],
      "source": [
        "corpus = Corpus() \n",
        "\n",
        "#Training the corpus to generate the co-occurrence matrix which is used in GloVe\n",
        "corpus.fit(train_samples, ignore_missing=True)"
      ]
    },
    {
      "cell_type": "code",
      "execution_count": null,
      "metadata": {
        "colab": {
          "base_uri": "https://localhost:8080/"
        },
        "id": "AA3GYpi5ZxMY",
        "outputId": "6c220ee7-8cb0-4225-da48-29a2181740b0"
      },
      "outputs": [
        {
          "output_type": "stream",
          "name": "stdout",
          "text": [
            "Performing 50 training epochs with 4 threads\n",
            "Epoch 0\n",
            "Epoch 1\n",
            "Epoch 2\n",
            "Epoch 3\n",
            "Epoch 4\n",
            "Epoch 5\n",
            "Epoch 6\n",
            "Epoch 7\n",
            "Epoch 8\n",
            "Epoch 9\n",
            "Epoch 10\n",
            "Epoch 11\n",
            "Epoch 12\n",
            "Epoch 13\n",
            "Epoch 14\n",
            "Epoch 15\n",
            "Epoch 16\n",
            "Epoch 17\n",
            "Epoch 18\n",
            "Epoch 19\n",
            "Epoch 20\n",
            "Epoch 21\n",
            "Epoch 22\n",
            "Epoch 23\n",
            "Epoch 24\n",
            "Epoch 25\n",
            "Epoch 26\n",
            "Epoch 27\n",
            "Epoch 28\n",
            "Epoch 29\n",
            "Epoch 30\n",
            "Epoch 31\n",
            "Epoch 32\n",
            "Epoch 33\n",
            "Epoch 34\n",
            "Epoch 35\n",
            "Epoch 36\n",
            "Epoch 37\n",
            "Epoch 38\n",
            "Epoch 39\n",
            "Epoch 40\n",
            "Epoch 41\n",
            "Epoch 42\n",
            "Epoch 43\n",
            "Epoch 44\n",
            "Epoch 45\n",
            "Epoch 46\n",
            "Epoch 47\n",
            "Epoch 48\n",
            "Epoch 49\n"
          ]
        }
      ],
      "source": [
        "new_glove_2.fit(corpus.matrix, epochs=50, no_threads=4, verbose=True)"
      ]
    },
    {
      "cell_type": "code",
      "execution_count": null,
      "metadata": {
        "id": "pZsn0dv987Dc",
        "colab": {
          "base_uri": "https://localhost:8080/"
        },
        "outputId": "af943153-3f59-4034-bf9d-9920798d4776"
      },
      "outputs": [
        {
          "output_type": "execute_result",
          "data": {
            "text/plain": [
              "[('attorney', 0.5818665104029348),\n",
              " ('client', 0.5659854047171373),\n",
              " ('lawyers', 0.562391323158718),\n",
              " ('attorneys', 0.5588689153299055)]"
            ]
          },
          "metadata": {},
          "execution_count": 10
        }
      ],
      "source": [
        "new_glove_2.most_similar('lawyer')"
      ]
    },
    {
      "cell_type": "code",
      "source": [
        "new_glove_2.most_similar('lawyer')"
      ],
      "metadata": {
        "colab": {
          "base_uri": "https://localhost:8080/"
        },
        "id": "hNp3HDv3dCYe",
        "outputId": "f18e7835-80e5-4261-91d0-0bfb8d48dfe4"
      },
      "execution_count": null,
      "outputs": [
        {
          "output_type": "execute_result",
          "data": {
            "text/plain": [
              "[('attorney', 0.5961866483586025),\n",
              " ('attorneys', 0.5826699974266705),\n",
              " ('client', 0.5677144571074384),\n",
              " ('lawyers', 0.5458346037068305)]"
            ]
          },
          "metadata": {},
          "execution_count": 9
        }
      ]
    },
    {
      "cell_type": "code",
      "execution_count": null,
      "metadata": {
        "id": "7BvVQLV4Yqo-"
      },
      "outputs": [],
      "source": [
        "saved_model_path = \"/content/glove_250_epochs_300d_new/\"\n",
        "!mkdir {saved_model_path}"
      ]
    },
    {
      "cell_type": "code",
      "execution_count": null,
      "metadata": {
        "id": "w2chv5wSYx6k"
      },
      "outputs": [],
      "source": [
        "new_glove_2.save('/content/glove_250_epochs_300d_new/glove_250_epochs_300d_new.model')"
      ]
    },
    {
      "cell_type": "code",
      "execution_count": null,
      "metadata": {
        "colab": {
          "base_uri": "https://localhost:8080/"
        },
        "id": "3EXBmvtOYybV",
        "outputId": "df7e827a-7389-49de-b9e9-16e38ae0abef"
      },
      "outputs": [
        {
          "output_type": "stream",
          "name": "stdout",
          "text": [
            "391M\t/content/glove_250_epochs_300d_new/\n"
          ]
        }
      ],
      "source": [
        "!du -sh {saved_model_path}"
      ]
    },
    {
      "cell_type": "code",
      "execution_count": null,
      "metadata": {
        "colab": {
          "base_uri": "https://localhost:8080/"
        },
        "id": "EQoD5707Y2F8",
        "outputId": "d1e84182-71c2-43e7-82cc-b85694a9904f"
      },
      "outputs": [
        {
          "output_type": "stream",
          "name": "stdout",
          "text": [
            "'/content/glove_250_epochs_300d_new/' -> '/content/drive/Shareddrives/SigmaLaw-WPP/EAMS/glove/glove_250_epochs_300d_new'\n",
            "'/content/glove_250_epochs_300d_new/glove_250_epochs_300d_new.model' -> '/content/drive/Shareddrives/SigmaLaw-WPP/EAMS/glove/glove_250_epochs_300d_new/glove_250_epochs_300d_new.model'\n"
          ]
        }
      ],
      "source": [
        "!cp -av {saved_model_path} /content/drive/Shareddrives/SigmaLaw-WPP/EAMS/glove"
      ]
    }
  ],
  "metadata": {
    "colab": {
      "name": "retrain_glove.ipynb",
      "provenance": []
    },
    "kernelspec": {
      "display_name": "Python 3",
      "name": "python3"
    },
    "language_info": {
      "name": "python"
    }
  },
  "nbformat": 4,
  "nbformat_minor": 0
}